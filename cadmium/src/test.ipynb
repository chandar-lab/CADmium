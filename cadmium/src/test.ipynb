{
 "cells": [
  {
   "cell_type": "code",
   "execution_count": 15,
   "id": "2fab5b96",
   "metadata": {},
   "outputs": [],
   "source": [
    "import pandas as pd\n",
    "import os"
   ]
  },
  {
   "cell_type": "code",
   "execution_count": 20,
   "id": "46bf9619",
   "metadata": {},
   "outputs": [],
   "source": [
    "from datasets import load_from_disk\n",
    "cadmium_ds = load_from_disk(\"../../data/cadmium_ds\")\n",
    "fusion360_ds = load_from_disk(\"../../data/fusion360_ds\")"
   ]
  },
  {
   "cell_type": "code",
   "execution_count": 21,
   "id": "3872958c",
   "metadata": {},
   "outputs": [
    {
     "data": {
      "text/plain": [
       "DatasetDict({\n",
       "    train: Dataset({\n",
       "        features: ['uid', 'annotation', 'json_desc'],\n",
       "        num_rows: 118299\n",
       "    })\n",
       "    validation: Dataset({\n",
       "        features: ['uid', 'annotation', 'json_desc'],\n",
       "        num_rows: 8925\n",
       "    })\n",
       "    test: Dataset({\n",
       "        features: ['uid', 'annotation', 'json_desc'],\n",
       "        num_rows: 8046\n",
       "    })\n",
       "})"
      ]
     },
     "execution_count": 21,
     "metadata": {},
     "output_type": "execute_result"
    }
   ],
   "source": [
    "cadmium_ds"
   ]
  },
  {
   "cell_type": "code",
   "execution_count": 22,
   "id": "88c38528",
   "metadata": {},
   "outputs": [
    {
     "data": {
      "text/plain": [
       "DatasetDict({\n",
       "    validation: Dataset({\n",
       "        features: ['uid', 'annotation', 'json_desc'],\n",
       "        num_rows: 8307\n",
       "    })\n",
       "})"
      ]
     },
     "execution_count": 22,
     "metadata": {},
     "output_type": "execute_result"
    }
   ],
   "source": [
    "fusion360_ds"
   ]
  },
  {
   "cell_type": "code",
   "execution_count": null,
   "id": "ed5786a3",
   "metadata": {},
   "outputs": [],
   "source": []
  }
 ],
 "metadata": {
  "kernelspec": {
   "display_name": "Python 3",
   "language": "python",
   "name": "python3"
  },
  "language_info": {
   "codemirror_mode": {
    "name": "ipython",
    "version": 3
   },
   "file_extension": ".py",
   "mimetype": "text/x-python",
   "name": "python",
   "nbconvert_exporter": "python",
   "pygments_lexer": "ipython3",
   "version": "3.11.12"
  }
 },
 "nbformat": 4,
 "nbformat_minor": 5
}
